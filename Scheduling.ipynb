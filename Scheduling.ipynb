{
 "cells": [
  {
   "cell_type": "code",
   "execution_count": null,
   "metadata": {},
   "outputs": [
    {
     "name": "stdout",
     "output_type": "stream",
     "text": [
      "Optimal Resource Allocation:\n",
      "Boat1 is assigned to TaskA at cost 100\n",
      "Boat2 is assigned to TaskB at cost 250\n",
      "Helicopter1 is assigned to TaskC at cost 400\n"
     ]
    }
   ],
   "source": [
    "#Boat Scheduling Optimization\n",
    "\n",
    "import numpy as np\n",
    "\n",
    "# Define resources and tasks\n",
    "resources = ['Boat1', 'Boat2', 'Helicopter1', 'Helicopter2']\n",
    "tasks = ['TaskA', 'TaskB', 'TaskC']\n",
    "cost_matrix = np.array([[100, 200, 300], [150, 250, 350], [200, 300, 400], [250, 350, 450]])\n",
    "\n",
    "from scipy.optimize import linear_sum_assignment\n",
    "\n",
    "# Solve using Hungarian algorithm (resource allocation)\n",
    "row_ind, col_ind = linear_sum_assignment(cost_matrix)\n",
    "\n",
    "print(\"Optimal Resource Allocation:\")\n",
    "for i in range(len(row_ind)):\n",
    "    print(f\"{resources[row_ind[i]]} is assigned to {tasks[col_ind[i]]} at cost {cost_matrix[row_ind[i], col_ind[i]]}\")\n",
    "#The code will output the optimal assignment of boats to platforms based on the given cost matrix.\n",
    "\n"
   ]
  },
  {
   "cell_type": "code",
   "execution_count": null,
   "metadata": {},
   "outputs": [
    {
     "name": "stdout",
     "output_type": "stream",
     "text": [
      "Welcome to the CBC MILP Solver \n",
      "Version: 2.10.3 \n",
      "Build Date: Dec 15 2019 \n",
      "\n",
      "command line - /opt/anaconda3/envs/schedulingenv/lib/python3.10/site-packages/pulp/solverdir/cbc/osx/64/cbc /var/folders/4q/p59t2ccd40zgg62r0lz1s6sc0000gn/T/81d7d7b9447148a7b1f5b60c4e18811e-pulp.mps -timeMode elapsed -branch -printingOptions all -solution /var/folders/4q/p59t2ccd40zgg62r0lz1s6sc0000gn/T/81d7d7b9447148a7b1f5b60c4e18811e-pulp.sol (default strategy 1)\n",
      "At line 2 NAME          MODEL\n",
      "At line 3 ROWS\n",
      "At line 9 COLUMNS\n",
      "At line 30 RHS\n",
      "At line 35 BOUNDS\n",
      "At line 40 ENDATA\n",
      "Problem MODEL has 4 rows, 4 columns and 8 elements\n",
      "Coin0008I MODEL read with 0 errors\n",
      "Option for timeMode changed from cpu to elapsed\n",
      "Continuous objective value is 380 - 0.00 seconds\n",
      "Cgl0003I 0 fixed, 0 tightened bounds, 0 strengthened rows, 9 substitutions\n",
      "Cgl0004I processed model has 0 rows, 0 columns (0 integer (0 of which binary)) and 0 elements\n",
      "Cbc3007W No integer variables - nothing to do\n",
      "Cuts at root node changed objective from 480 to -1.79769e+308\n",
      "Probing was tried 0 times and created 0 cuts of which 0 were active after adding rounds of cuts (0.000 seconds)\n",
      "Gomory was tried 0 times and created 0 cuts of which 0 were active after adding rounds of cuts (0.000 seconds)\n",
      "Knapsack was tried 0 times and created 0 cuts of which 0 were active after adding rounds of cuts (0.000 seconds)\n",
      "Clique was tried 0 times and created 0 cuts of which 0 were active after adding rounds of cuts (0.000 seconds)\n",
      "MixedIntegerRounding2 was tried 0 times and created 0 cuts of which 0 were active after adding rounds of cuts (0.000 seconds)\n",
      "FlowCover was tried 0 times and created 0 cuts of which 0 were active after adding rounds of cuts (0.000 seconds)\n",
      "TwoMirCuts was tried 0 times and created 0 cuts of which 0 were active after adding rounds of cuts (0.000 seconds)\n",
      "ZeroHalf was tried 0 times and created 0 cuts of which 0 were active after adding rounds of cuts (0.000 seconds)\n",
      "\n",
      "Result - Optimal solution found\n",
      "\n",
      "Objective value:                480.00000000\n",
      "Enumerated nodes:               0\n",
      "Total iterations:               0\n",
      "Time (CPU seconds):             0.00\n",
      "Time (Wallclock seconds):       0.00\n",
      "\n",
      "Option for printingOptions changed from normal to all\n",
      "Total time (CPU seconds):       0.00   (Wallclock seconds):       0.00\n",
      "\n",
      "Optimal Schedule:\n",
      "Helicopter1 is assigned to RigA\n",
      "Helicopter2 is assigned to RigB\n"
     ]
    }
   ],
   "source": [
    "#Helicopter Scheduling Optimization  Schedule helicopters to transport crews to offshore rigs while minimizing operational costs and adhering to capacity constraints.\n",
    "from pulp import LpProblem, LpMinimize, LpVariable, lpSum\n",
    "\n",
    "# Data\n",
    "helicopters = ['Helicopter1', 'Helicopter2']\n",
    "rigs = ['RigA', 'RigB']\n",
    "costs = {'Helicopter1': {'RigA': 200, 'RigB': 300},\n",
    "         'Helicopter2': {'RigA': 250, 'RigB': 280}}\n",
    "capacity = {'Helicopter1': 10, 'Helicopter2': 8}\n",
    "demand = {'RigA': 6, 'RigB': 8}\n",
    "\n",
    "# Decision variables: Assign helicopters to rigs (binary variables)\n",
    "assignments = LpVariable.dicts(\"Assignment\", [(h, r) for h in helicopters for r in rigs], cat='Binary')\n",
    "\n",
    "# Create the optimization problem\n",
    "problem = LpProblem(\"Helicopter_Scheduling_Optimization\", LpMinimize)\n",
    "\n",
    "# Objective function: Minimize total cost\n",
    "problem += lpSum(assignments[(h, r)] * costs[h][r] for h in helicopters for r in rigs), \"Total_Cost\"\n",
    "\n",
    "# Constraints: Each rig's demand must be met\n",
    "for r in rigs:\n",
    "    problem += lpSum(assignments[(h, r)] * capacity[h] for h in helicopters) >= demand[r]\n",
    "\n",
    "# Constraints: Each helicopter can serve at most one rig\n",
    "for h in helicopters:\n",
    "    problem += lpSum(assignments[(h, r)] for r in rigs) <= 1\n",
    "\n",
    "# Solve the problem\n",
    "problem.solve()\n",
    "\n",
    "# Print results\n",
    "print(\"Optimal Schedule:\")\n",
    "for h in helicopters:\n",
    "    for r in rigs:\n",
    "        if assignments[(h, r)].value() == 1:\n",
    "            print(f\"{h} is assigned to {r}\")\n",
    "#The code will output the optimal assignment of helicopters to rigs based on the cost and capacity constraints."
   ]
  },
  {
   "cell_type": "code",
   "execution_count": null,
   "metadata": {},
   "outputs": [
    {
     "name": "stdout",
     "output_type": "stream",
     "text": [
      "Optimal Resource Allocation:\n",
      "Boat1 is assigned to TaskA at cost 100\n",
      "Boat2 is assigned to TaskB at cost 250\n",
      "Helicopter1 is assigned to TaskC at cost 400\n"
     ]
    }
   ],
   "source": [
    "#Allocate resources (boats and helicopters) across multiple missions while minimizing costs and ensuring all tasks are completed.\n",
    "\n",
    "import numpy as np\n",
    "\n",
    "# Define resources and tasks\n",
    "resources = ['Boat1', 'Boat2', 'Helicopter1', 'Helicopter2']\n",
    "tasks = ['TaskA', 'TaskB', 'TaskC']\n",
    "cost_matrix = np.array([[100, 200, 300], [150, 250, 350], [200, 300, 400], [250, 350, 450]])\n",
    "\n",
    "from scipy.optimize import linear_sum_assignment\n",
    "\n",
    "# Solve using Hungarian algorithm (resource allocation)\n",
    "row_ind, col_ind = linear_sum_assignment(cost_matrix)\n",
    "\n",
    "print(\"Optimal Resource Allocation:\")\n",
    "for i in range(len(row_ind)):\n",
    "    print(f\"{resources[row_ind[i]]} is assigned to {tasks[col_ind[i]]} at cost {cost_matrix[row_ind[i], col_ind[i]]}\")\n",
    "#The code will output an optimal allocation of resources (boats and helicopters) to tasks based on the cost matrix using the Hungarian algorithm"
   ]
  },
  {
   "cell_type": "code",
   "execution_count": 5,
   "metadata": {},
   "outputs": [
    {
     "name": "stdout",
     "output_type": "stream",
     "text": [
      "2.2.4\n",
      "2.2.3\n"
     ]
    }
   ],
   "source": [
    "import numpy as np\n",
    "print(np.__version__)  # Outputs the version of numpy\n",
    "\n",
    "import pandas as pd\n",
    "print(pd.__version__)  # Outputs the version of pandas\n"
   ]
  },
  {
   "cell_type": "code",
   "execution_count": 18,
   "metadata": {},
   "outputs": [
    {
     "name": "stdout",
     "output_type": "stream",
     "text": [
      "16\n"
     ]
    }
   ],
   "source": [
    "import numpy as np\n",
    "from scipy.optimize import minimize\n",
    "def objective_function(x):\n",
    "    x1=x[0]\n",
    "    x2=x[1]\n",
    "    x3=x[2]\n",
    "    x4=x[3]\n",
    "    return x1 * x4* (x1+x2+x3)+x3 \n",
    "def constraint1(x):\n",
    "    return x[0]*x[1]*x[2]*x[3] -25\n",
    "def constraint2(x):\n",
    "    sum_seq=40\n",
    "    for i in range(4):\n",
    "        sum_seq=sum_seq-x[i]**2 \n",
    "    return sum_seq\n",
    "\n",
    "x0 = [1, 5, 5, 1]\n",
    "print(objective_function(x0))\n",
    "\n"
   ]
  },
  {
   "cell_type": "code",
   "execution_count": 21,
   "metadata": {},
   "outputs": [
    {
     "name": "stdout",
     "output_type": "stream",
     "text": [
      " message: Optimization terminated successfully\n",
      " success: True\n",
      "  status: 0\n",
      "     fun: 17.014017245609665\n",
      "       x: [ 1.000e+00  4.743e+00  3.821e+00  1.379e+00]\n",
      "     nit: 5\n",
      "     jac: [ 1.457e+01  1.379e+00  2.379e+00  9.564e+00]\n",
      "    nfev: 25\n",
      "    njev: 5\n",
      "Optimal solution: [1.         4.7429961  3.82115462 1.37940765]\n",
      "Objective function value: 17.014017245609665\n"
     ]
    }
   ],
   "source": [
    "b=(1,5)\n",
    "bnds = (b, b, b, b)\n",
    "cons = ({'type': 'ineq', 'fun': constraint1},\n",
    "        {'type': 'eq', 'fun': constraint2})\n",
    "solution = minimize(objective_function, x0, method='SLSQP', bounds=bnds, constraints=cons)\n",
    "print(solution)\n",
    "print(\"Optimal solution:\", solution.x)\n",
    "print(\"Objective function value:\", solution.fun)\n"
   ]
  },
  {
   "cell_type": "code",
   "execution_count": 1,
   "metadata": {},
   "outputs": [
    {
     "name": "stdout",
     "output_type": "stream",
     "text": [
      "Status: ok\n",
      "Termination Condition: optimal\n",
      "Total Circuit Time: 35.0\n",
      "Included Exercise1: 0.0\n",
      "Included Exercise2: 1.0\n",
      "Included Exercise3: 1.0\n",
      "Included Exercise4: 1.0\n"
     ]
    }
   ],
   "source": [
    "import pyomo.environ as pyo\n",
    "\n",
    "# Create a concrete model\n",
    "model = pyo.ConcreteModel()\n",
    "\n",
    "###### SETS ######\n",
    "# Define the set of exercises and muscles\n",
    "model.Exercises = pyo.Set(initialize=['Exercise1', 'Exercise2', 'Exercise3', 'Exercise4'])\n",
    "model.Muscles = pyo.Set(initialize=['Muscle1', 'Muscle2'])\n",
    "\n",
    "###### PARAMETERS ######\n",
    "# Parameters related to exercises\n",
    "duration = {'Exercise1': 10, 'Exercise2': 12, 'Exercise3': 8, 'Exercise4': 15}\n",
    "model.duration = pyo.Param(model.Exercises, initialize=duration)\n",
    "\n",
    "time_between_exercises = {\n",
    "    ('Exercise1', 'Exercise2'): 3,\n",
    "    ('Exercise1', 'Exercise3'): 4,\n",
    "    ('Exercise1', 'Exercise4'): 5,\n",
    "    ('Exercise2', 'Exercise1'): 3,\n",
    "    ('Exercise2', 'Exercise3'): 2,\n",
    "    ('Exercise2', 'Exercise4'): 6,\n",
    "    ('Exercise3', 'Exercise1'): 4,\n",
    "    ('Exercise3', 'Exercise2'): 2,\n",
    "    ('Exercise3', 'Exercise4'): 3,\n",
    "    ('Exercise4', 'Exercise1'): 5,\n",
    "    ('Exercise4', 'Exercise2'): 6,\n",
    "    ('Exercise4', 'Exercise3'): 3\n",
    "}\n",
    "model.time_between_exercises = pyo.Param(model.Exercises * model.Exercises, initialize=time_between_exercises, default=0)\n",
    "\n",
    "# Parameters related to muscles\n",
    "work = {\n",
    "    ('Exercise1', 'Muscle1'): 5, ('Exercise1', 'Muscle2'): 0,\n",
    "    ('Exercise2', 'Muscle1'): 0, ('Exercise2', 'Muscle2'): 7,\n",
    "    ('Exercise3', 'Muscle1'): 6, ('Exercise3', 'Muscle2'): 0,\n",
    "    ('Exercise4', 'Muscle1'): 0, ('Exercise4', 'Muscle2'): 8\n",
    "}\n",
    "model.work = pyo.Param(model.Exercises * model.Muscles, initialize=work, default=0)\n",
    "\n",
    "muscle_lower_limit = {'Muscle1': 5, 'Muscle2': 5}\n",
    "muscle_upper_limit = {'Muscle1': 10, 'Muscle2': 15}\n",
    "model.muscle_lower_limit = pyo.Param(model.Muscles, initialize=muscle_lower_limit)\n",
    "model.muscle_upper_limit = pyo.Param(model.Muscles, initialize=muscle_upper_limit)\n",
    "\n",
    "MET = {'Exercise1': 6, 'Exercise2': 8, 'Exercise3': 5, 'Exercise4': 9}\n",
    "model.MET = pyo.Param(model.Exercises, initialize=MET)\n",
    "T_MET = 7\n",
    "model.T_MET = pyo.Param(initialize=T_MET)\n",
    "\n",
    "###### VARIABLES ######\n",
    "# Binary variables for inclusion of exercises\n",
    "model.included = pyo.Var(model.Exercises, within=pyo.Binary)\n",
    "\n",
    "# Binary variables for sequence of exercises\n",
    "model.next_exercise = pyo.Var(model.Exercises * model.Exercises, within=pyo.Binary)\n",
    "\n",
    "# Order of exercises in the circuit\n",
    "model.exercise_order = pyo.Var(model.Exercises, within=pyo.NonNegativeIntegers)\n",
    "\n",
    "###### OBJECTIVE FUNCTION ######\n",
    "def total_circuit_time_rule(model):\n",
    "    return sum(model.duration[i] * model.included[i] for i in model.Exercises) + \\\n",
    "           sum(model.time_between_exercises[i, j] * model.next_exercise[i, j]\n",
    "               for i in model.Exercises for j in model.Exercises if i != j)\n",
    "model.total_circuit_time = pyo.Objective(rule=total_circuit_time_rule, sense=pyo.minimize)\n",
    "\n",
    "###### CONSTRAINTS ######\n",
    "# Number of exercises in the circuit\n",
    "number_of_exercises = 3\n",
    "model.number_of_exercises_in_circuit = pyo.Constraint(\n",
    "    expr=sum(model.included[i] for i in model.Exercises) == number_of_exercises\n",
    ")\n",
    "\n",
    "# Muscle load constraints\n",
    "def muscle_lower_limit_rule(model, m):\n",
    "    return sum(model.work[i, m] * model.included[i] for i in model.Exercises) >= model.muscle_lower_limit[m]\n",
    "model.muscle_lower_limit_constraint = pyo.Constraint(model.Muscles, rule=muscle_lower_limit_rule)\n",
    "\n",
    "def muscle_upper_limit_rule(model, m):\n",
    "    return sum(model.work[i, m] * model.included[i] for i in model.Exercises) <= model.muscle_upper_limit[m]\n",
    "model.muscle_upper_limit_constraint = pyo.Constraint(model.Muscles, rule=muscle_upper_limit_rule)\n",
    "\n",
    "# Intensity constraints\n",
    "intensity_lower_limit = 6\n",
    "intensity_upper_limit = 8\n",
    "\n",
    "def intensity_lower_limit_rule(model):\n",
    "    return sum(model.MET[i] * model.included[i] for i in model.Exercises) >= intensity_lower_limit * number_of_exercises\n",
    "model.intensity_lower_constraint = pyo.Constraint(rule=intensity_lower_limit_rule)\n",
    "\n",
    "def intensity_upper_limit_rule(model):\n",
    "    return sum(model.MET[i] * model.included[i] for i in model.Exercises) <= intensity_upper_limit * number_of_exercises\n",
    "model.intensity_upper_constraint = pyo.Constraint(rule=intensity_upper_limit_rule)\n",
    "\n",
    "###### SOLVE THE MODEL ######\n",
    "solver = pyo.SolverFactory('glpk') # You can use other solvers like CPLEX or Gurobi if available.\n",
    "result = solver.solve(model)\n",
    "\n",
    "###### DISPLAY RESULTS ######\n",
    "print(\"Status:\", result.solver.status)\n",
    "print(\"Termination Condition:\", result.solver.termination_condition)\n",
    "print(\"Total Circuit Time:\", pyo.value(model.total_circuit_time))\n",
    "for e in model.Exercises:\n",
    "    print(f\"Included {e}: {pyo.value(model.included[e])}\")\n"
   ]
  },
  {
   "cell_type": "code",
   "execution_count": null,
   "metadata": {},
   "outputs": [],
   "source": []
  }
 ],
 "metadata": {
  "kernelspec": {
   "display_name": "schedulingenv",
   "language": "python",
   "name": "python3"
  },
  "language_info": {
   "codemirror_mode": {
    "name": "ipython",
    "version": 3
   },
   "file_extension": ".py",
   "mimetype": "text/x-python",
   "name": "python",
   "nbconvert_exporter": "python",
   "pygments_lexer": "ipython3",
   "version": "3.10.16"
  }
 },
 "nbformat": 4,
 "nbformat_minor": 2
}
